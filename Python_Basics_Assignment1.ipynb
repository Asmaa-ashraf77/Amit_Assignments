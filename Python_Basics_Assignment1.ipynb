{
  "cells": [
    {
      "cell_type": "markdown",
      "metadata": {
        "id": "nvvf0y_trPEf"
      },
      "source": [
        "### Python Assignment\n",
        "\n",
        "#### Question 1: Functions\n",
        "Provide two examples of built-in functions and describe their purpose."
      ]
    },
    {
      "cell_type": "markdown",
      "source": [
        "Upper Function\n",
        "built-in function used to convert the string to upper case\n",
        "\n",
        "Len Function\n",
        "built-in a function used to return a count of items in the list"
      ],
      "metadata": {
        "id": "Akgq1YX0sIfO"
      }
    },
    {
      "cell_type": "code",
      "execution_count": 7,
      "metadata": {
        "colab": {
          "base_uri": "https://localhost:8080/"
        },
        "id": "Vl8UUyPdrPEg",
        "outputId": "c46336e2-2b91-435f-8e00-36208ccd00f3"
      },
      "outputs": [
        {
          "output_type": "stream",
          "name": "stdout",
          "text": [
            "AMIT\n",
            "4\n"
          ]
        }
      ],
      "source": [
        "name = \"amit\"\n",
        "uppertName= name.upper()\n",
        "print(countItem)\n",
        "\n",
        "number=[1, 2 ,3 ,10]\n",
        "lenNumber = len(number)\n",
        "print(lenNumber)"
      ]
    },
    {
      "cell_type": "markdown",
      "metadata": {
        "id": "CL0nmokdrPEh"
      },
      "source": [
        "#### Question 2: Comments\n",
        "Show the difference between single-line comments and multi-line comments in Python."
      ]
    },
    {
      "cell_type": "code",
      "execution_count": null,
      "metadata": {
        "id": "1NY2Fh78rPEh"
      },
      "outputs": [],
      "source": [
        "# single-line comments >> use the # and write the comment  in one line\n",
        "\n",
        "'''\n",
        "\n",
        "multi-line comments, can write more  comments\n",
        "\n",
        "\n",
        "'''"
      ]
    },
    {
      "cell_type": "markdown",
      "metadata": {
        "id": "eiSta2PIrPEh"
      },
      "source": [
        "#### Question 3: Variables and Errors\n",
        "Consider the following code:"
      ]
    },
    {
      "cell_type": "markdown",
      "metadata": {
        "id": "XKTh-LPRrPEh"
      },
      "source": [
        "- What will happen when the code is executed? Why?\n",
        "- Correct the code so it runs without errors.\n",
        "\n",
        "The code can't run because the variable incorrect with different name"
      ]
    },
    {
      "cell_type": "code",
      "execution_count": 9,
      "metadata": {
        "colab": {
          "base_uri": "https://localhost:8080/"
        },
        "id": "eAkKWH1SrPEh",
        "outputId": "47ae928e-47d8-4a2e-ab55-51435e6e57e4"
      },
      "outputs": [
        {
          "output_type": "stream",
          "name": "stdout",
          "text": [
            "5\n"
          ]
        }
      ],
      "source": [
        "my_var = 10\n",
        "my_var = 5\n",
        "print(my_var)"
      ]
    },
    {
      "cell_type": "markdown",
      "metadata": {
        "id": "DvaiaWXUrPEi"
      },
      "source": [
        "### Question 4: String Formatting\n",
        "Write a praogram that prints the following sentence using **f-strings**, **`.format()` method**, and **comma-separated arguments in the `print()` function**:\n",
        "\n",
        "```\n",
        "My name is Hassan, and I am 16 years old.\n",
        "```"
      ]
    },
    {
      "cell_type": "code",
      "execution_count": 12,
      "metadata": {
        "colab": {
          "base_uri": "https://localhost:8080/"
        },
        "id": "M4Fh0u_WrPEi",
        "outputId": "7e0267b6-cd58-48e4-bd08-95da164f91ab"
      },
      "outputs": [
        {
          "output_type": "stream",
          "name": "stdout",
          "text": [
            "My name is Hassan,I am 16 years old \n"
          ]
        }
      ],
      "source": [
        "name ='Hassan'\n",
        "\n",
        "age='16'\n",
        "\n",
        "print(f'My name is {name},I am {age} years old ')"
      ]
    },
    {
      "cell_type": "markdown",
      "metadata": {
        "id": "abuhoSWRrPEi"
      },
      "source": [
        "#### Question 5: Debugging\n",
        "There is a bug in the following code:"
      ]
    },
    {
      "cell_type": "markdown",
      "metadata": {
        "id": "iwMEAAQPrPEi"
      },
      "source": [
        "- Identify the bug and explain why it occurs.\n",
        "- Fix the bug and provide the corrected code.\n",
        "the error add (') into the string"
      ]
    },
    {
      "cell_type": "code",
      "execution_count": 14,
      "metadata": {
        "colab": {
          "base_uri": "https://localhost:8080/"
        },
        "id": "szpiW8d5rPEi",
        "outputId": "1cdc318b-c666-4b6c-964d-8c6b112497f6"
      },
      "outputs": [
        {
          "output_type": "stream",
          "name": "stdout",
          "text": [
            "My names John and I am twenty-five years old.\n"
          ]
        }
      ],
      "source": [
        "name = \"John\"\n",
        "age = \"twenty-five\"\n",
        "print(f'My names {name} and I am {age} years old.')"
      ]
    },
    {
      "cell_type": "markdown",
      "metadata": {
        "id": "KVeEQjwWrPEi"
      },
      "source": [
        "Examine the following code snippet:\n",
        "- What error will occur when this code is executed? Why?\n",
        "- Fix the code so that it prints the last character of the string without causing an error.\n",
        "\n",
        "the error out of range of length the string"
      ]
    },
    {
      "cell_type": "code",
      "execution_count": 16,
      "metadata": {
        "colab": {
          "base_uri": "https://localhost:8080/"
        },
        "id": "4oEIhAg9rPEi",
        "outputId": "de885a6e-5a71-4725-f8c6-6c37370335d0"
      },
      "outputs": [
        {
          "output_type": "stream",
          "name": "stdout",
          "text": [
            "n\n"
          ]
        }
      ],
      "source": [
        "text = \"Python Programming\"\n",
        "print(text[5])"
      ]
    },
    {
      "cell_type": "markdown",
      "metadata": {
        "id": "V8W2oIWCrPEi"
      },
      "source": [
        "#### Question 6: String Slicing\n",
        "Given the string:\n",
        "\n",
        "- Write code to extract and reverse the word \"Learning\" using slicing.\n",
        "    - Once with +ve indexing\n",
        "    - Once with -ve indexing"
      ]
    },
    {
      "cell_type": "code",
      "execution_count": 43,
      "metadata": {
        "colab": {
          "base_uri": "https://localhost:8080/"
        },
        "collapsed": true,
        "id": "5BbK-75erPEj",
        "outputId": "d6d5834b-edbd-4802-a171-ea759b37d927"
      },
      "outputs": [
        {
          "output_type": "stream",
          "name": "stdout",
          "text": [
            "Learning\n",
            "gninraeL\n"
          ]
        }
      ],
      "source": [
        "text = \"Machine Learning and AI\"\n",
        "\n",
        "testSplit=text[ 8: 16]\n",
        "\n",
        "testSplit1=testSplit[::-1]\n",
        "\n",
        "print(testSplit)\n",
        "\n",
        "print(testSplit1)"
      ]
    },
    {
      "cell_type": "markdown",
      "metadata": {
        "id": "R-XjXklsrPEj"
      },
      "source": [
        "#### Question 6: Practical Problem\n",
        "Create a Python program that performs the following:\n",
        "1. Define a string `quote = \"Data is the new oil\"`.\n",
        "2. Use string slicing to extract the word \"Data\" and assign it to a variable.\n",
        "3. Use a built-in function to convert the entire `quote` string to uppercase.\n",
        "4. Print the final result."
      ]
    },
    {
      "cell_type": "code",
      "execution_count": 46,
      "metadata": {
        "colab": {
          "base_uri": "https://localhost:8080/"
        },
        "id": "X53N92xgrPEj",
        "outputId": "acabce71-d28b-49f8-a9f8-2633cbb36f9b"
      },
      "outputs": [
        {
          "output_type": "stream",
          "name": "stdout",
          "text": [
            "Data\n",
            "DATA IS THE NEW OIL\n"
          ]
        }
      ],
      "source": [
        "quote = \"Data is the new oil\"\n",
        "\n",
        "wordData=quote[0:4]\n",
        "print(wordData)\n",
        "\n",
        "quoteUpper=quote.upper()\n",
        "\n",
        "print(quoteUpper)"
      ]
    }
  ],
  "metadata": {
    "kernelspec": {
      "display_name": "Python 3",
      "language": "python",
      "name": "python3"
    },
    "language_info": {
      "codemirror_mode": {
        "name": "ipython",
        "version": 3
      },
      "file_extension": ".py",
      "mimetype": "text/x-python",
      "name": "python",
      "nbconvert_exporter": "python",
      "pygments_lexer": "ipython3",
      "version": "3.12.5"
    },
    "colab": {
      "provenance": []
    }
  },
  "nbformat": 4,
  "nbformat_minor": 0
}
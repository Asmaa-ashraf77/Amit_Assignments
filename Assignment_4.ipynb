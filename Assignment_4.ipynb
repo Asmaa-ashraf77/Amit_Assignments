{
 "cells": [
  {
   "cell_type": "code",
   "execution_count": 2,
   "metadata": {},
   "outputs": [],
   "source": [
    "import numpy as np"
   ]
  },
  {
   "cell_type": "code",
   "execution_count": 1,
   "metadata": {},
   "outputs": [
    {
     "name": "stdout",
     "output_type": "stream",
     "text": [
      "(2,)\n",
      "[4 7]\n",
      "[-2 -3]\n",
      "[ 3 10]\n"
     ]
    }
   ],
   "source": [
    "\n",
    "\n",
    "vector1 = np.array([1,2])\n",
    "vector2 = np.array([3,5])\n",
    "print(vector1.shape)\n",
    "\n",
    "vectoradd = vector1 + vector2 \n",
    "print(vectoradd)\n",
    "\n",
    "vectorsubb = vector1 - vector2 \n",
    "print(vectorsubb)\n",
    "\n",
    "vectormulti=vector1 * vector2 \n",
    "print(vectormulti)"
   ]
  },
  {
   "cell_type": "code",
   "execution_count": 7,
   "metadata": {},
   "outputs": [
    {
     "name": "stdout",
     "output_type": "stream",
     "text": [
      "(2, 3)\n",
      "add:: [[20 18 12]\n",
      " [60  9 11]] \n",
      "\n",
      "sub:: [[10  2 -2]\n",
      " [40  3  3]]\n",
      "\n",
      "multiply:: [[ 75  80  35]\n",
      " [500  18  28]]\n",
      "\n",
      "transpose :: [[15 50]\n",
      " [10  6]\n",
      " [ 5  7]]\n",
      "mean :: 6.166666666666667\n"
     ]
    }
   ],
   "source": [
    "import numpy as np\n",
    "\n",
    "x= np.array([[15,10,5],\n",
    "            [50,6,7]])\n",
    "\n",
    "\n",
    "\n",
    "y=np.array([[5,8,7],\n",
    "            [10,3,4]])\n",
    "l=np.array([[5,8],\n",
    "            [10,3],\n",
    "            [4,7]])\n",
    "\n",
    "print(x.shape)\n",
    "\n",
    "add=x+y\n",
    "sub=x-y\n",
    "multiply=x*y\n",
    "print(f'add:: {add} \\n')\n",
    "print(f'sub:: {sub}\\n')\n",
    "print(f'multiply:: {multiply}\\n')\n",
    "\n",
    "print(f'transpose :: {x.T}')\n",
    "print(f'mean :: {np.mean(y)}')\n",
    "\n"
   ]
  },
  {
   "cell_type": "code",
   "execution_count": 12,
   "metadata": {},
   "outputs": [
    {
     "name": "stdout",
     "output_type": "stream",
     "text": [
      "(2, 3)\n",
      "(3, 2)\n",
      "[[195 185]\n",
      " [338 467]]\n"
     ]
    }
   ],
   "source": [
    "x= np.array([[1,10,5],\n",
    "            [50,6,7]])\n",
    "\n",
    "print(x.shape)\n",
    "\n",
    "l=np.array([[5,8],\n",
    "            [10,3],\n",
    "            [4,7]])\n",
    "\n",
    "print(l.shape)\n",
    "\n",
    "out=np.dot(x,l)\n",
    "\n",
    "print(out)\n",
    "\n"
   ]
  },
  {
   "cell_type": "code",
   "execution_count": 8,
   "metadata": {},
   "outputs": [
    {
     "name": "stdout",
     "output_type": "stream",
     "text": [
      "(4,)\n"
     ]
    }
   ],
   "source": [
    "\n",
    "arrayd=np.array([1, 5,6 ,7])\n",
    "\n",
    "print(arrayd.shape)"
   ]
  },
  {
   "cell_type": "code",
   "execution_count": null,
   "metadata": {},
   "outputs": [],
   "source": [
    " "
   ]
  }
 ],
 "metadata": {
  "kernelspec": {
   "display_name": "Python 3",
   "language": "python",
   "name": "python3"
  },
  "language_info": {
   "codemirror_mode": {
    "name": "ipython",
    "version": 3
   },
   "file_extension": ".py",
   "mimetype": "text/x-python",
   "name": "python",
   "nbconvert_exporter": "python",
   "pygments_lexer": "ipython3",
   "version": "3.11.2"
  }
 },
 "nbformat": 4,
 "nbformat_minor": 2
}

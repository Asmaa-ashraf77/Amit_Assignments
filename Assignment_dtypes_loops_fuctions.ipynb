{
 "cells": [
  {
   "cell_type": "markdown",
   "metadata": {},
   "source": [
    "# Assignment\n",
    "- You can use `lambda` if function can be put in one line"
   ]
  },
  {
   "cell_type": "markdown",
   "metadata": {},
   "source": [
    "### Write a function that calculates the factorial of a number"
   ]
  },
  {
   "cell_type": "code",
   "execution_count": 10,
   "metadata": {},
   "outputs": [
    {
     "data": {
      "text/plain": [
       "120"
      ]
     },
     "execution_count": 10,
     "metadata": {},
     "output_type": "execute_result"
    }
   ],
   "source": [
    "number_input=int(input('Enter The Number: '))\n",
    "\n",
    "def factorial(number):\n",
    "    if number == 0 and number ==1:\n",
    "     return 1 \n",
    "    else:\n",
    "      n=number+1\n",
    "      factorial=1\n",
    "      for i in range (1,n):\n",
    "        factorial*=i\n",
    "\n",
    "       \n",
    "      return factorial\n",
    "\n",
    "\n",
    "   \n",
    "factorial(number_input)"
   ]
  },
  {
   "cell_type": "markdown",
   "metadata": {},
   "source": [
    "### Write a function that calculates the Area of a circle given the radius"
   ]
  },
  {
   "cell_type": "code",
   "execution_count": 19,
   "metadata": {},
   "outputs": [
    {
     "data": {
      "text/plain": [
       "78.53750000000001"
      ]
     },
     "execution_count": 19,
     "metadata": {},
     "output_type": "execute_result"
    }
   ],
   "source": [
    "\n",
    "\n",
    "def area_of_circle(radius):\n",
    "    area_circle= (radius*radius)*3.1415\n",
    "    return area_circle\n",
    "\n",
    "\n",
    "area_of_circle(5)"
   ]
  },
  {
   "cell_type": "markdown",
   "metadata": {},
   "source": [
    "### Write a function that checks if number is even"
   ]
  },
  {
   "cell_type": "code",
   "execution_count": 25,
   "metadata": {},
   "outputs": [
    {
     "data": {
      "text/plain": [
       "'odd'"
      ]
     },
     "execution_count": 25,
     "metadata": {},
     "output_type": "execute_result"
    }
   ],
   "source": [
    "def even(number):\n",
    "    \n",
    "    if number %2 ==0:\n",
    "        type_number='even'\n",
    "\n",
    "        return type_number\n",
    "    else:\n",
    "        type_number='odd'\n",
    "\n",
    "        return type_number\n",
    "    \n",
    "even(535)"
   ]
  },
  {
   "cell_type": "markdown",
   "metadata": {},
   "source": [
    "### Write a function that returns the maximum of any amount of numbers"
   ]
  },
  {
   "cell_type": "code",
   "execution_count": 7,
   "metadata": {},
   "outputs": [
    {
     "name": "stdout",
     "output_type": "stream",
     "text": [
      "(1, 5, 8, 10, 500, 6, 7)\n"
     ]
    },
    {
     "data": {
      "text/plain": [
       "500"
      ]
     },
     "execution_count": 7,
     "metadata": {},
     "output_type": "execute_result"
    }
   ],
   "source": [
    "data = (1, 5, 8 , 10 , 500 , 6 , 7)\n",
    "\n",
    "print(data)\n",
    "def max(*args):\n",
    "\n",
    "   maximum=0\n",
    "   for i in data:\n",
    "      if i > maximum:\n",
    "         \n",
    "         maximum = i\n",
    "\n",
    "   return maximum\n",
    "\n",
    "   print(args , type(args))\n",
    "\n",
    "max(data)\n"
   ]
  },
  {
   "cell_type": "markdown",
   "metadata": {},
   "source": [
    "### Write a function that generates the multiplication table of a number up to 12"
   ]
  },
  {
   "cell_type": "code",
   "execution_count": 15,
   "metadata": {},
   "outputs": [
    {
     "name": "stdout",
     "output_type": "stream",
     "text": [
      "[155, 310, 465, 620, 775, 930, 1085, 1240, 1395, 1550, 1705, 1860]\n"
     ]
    }
   ],
   "source": [
    "\n",
    "\n",
    "input_number=int(input('Enter Number:'))\n",
    "\n",
    "def multiplication_table(number):\n",
    "\n",
    "    \n",
    "    table=[]\n",
    "    for i in range(1,13):\n",
    "        newN=number*i\n",
    "        table.append(newN)\n",
    "\n",
    "    return table\n",
    "\n",
    "\n",
    "\n",
    "\n",
    "table  = multiplication_table(input_number)\n",
    "\n",
    "print(table)\n"
   ]
  },
  {
   "cell_type": "markdown",
   "metadata": {},
   "source": [
    "### Write a function that count vowels in string"
   ]
  },
  {
   "cell_type": "code",
   "execution_count": 54,
   "metadata": {},
   "outputs": [
    {
     "name": "stdout",
     "output_type": "stream",
     "text": [
      "20\n"
     ]
    }
   ],
   "source": [
    "string_text='It is important to distinguish between vowels and vowel SOUNDS' # (8)\n",
    "# between vowels and vowel SOUNDS'\n",
    "\n",
    "\n",
    "def count_vowels(string):\n",
    "   vowels='aeiou'\n",
    "\n",
    "   vowels_found=[]\n",
    "\n",
    "   \n",
    "   \n",
    "   string_split=string.split()\n",
    "\n",
    "\n",
    "   for v in vowels:\n",
    "        for item in string_split:\n",
    "            for i in item: \n",
    "                if i.lower() ==    v.lower():\n",
    "                    \n",
    "                    vowels_found.append(v)\n",
    "                    # print(f'string {item} check vowel :: {v} \\n vowels_found :: {vowels_found} ')\n",
    "   \n",
    "   countvowels=(len(vowels_found))\n",
    "   return countvowels \n",
    "                \n",
    "\n",
    "    \n",
    "\n",
    "countv=count_vowels(string_text)\n",
    "print(countv)\n",
    "\n",
    "\n",
    "\n"
   ]
  },
  {
   "cell_type": "markdown",
   "metadata": {},
   "source": [
    "### Write a function that revesres a sequence"
   ]
  },
  {
   "cell_type": "code",
   "execution_count": 72,
   "metadata": {},
   "outputs": [
    {
     "name": "stdout",
     "output_type": "stream",
     "text": [
      "SOUNDS vowel and vowels between distinguish to important is It\n"
     ]
    }
   ],
   "source": [
    "reverse_list ='It is important to distinguish between vowels and vowel SOUNDS'\n",
    "\n",
    "def reverse(sequence):\n",
    "    sequence_split = sequence.split()\n",
    "    sequence_split.reverse()\n",
    "    new_string=' '.join(sequence_split)\n",
    "    return(new_string)\n",
    " \n",
    "\n",
    "\n",
    "    \n",
    "new = reverse(reverse_list)   \n",
    "print(new)\n"
   ]
  },
  {
   "cell_type": "markdown",
   "metadata": {},
   "source": [
    "### Write a function to check if sting can be written forward or backward"
   ]
  },
  {
   "cell_type": "code",
   "execution_count": 76,
   "metadata": {},
   "outputs": [
    {
     "name": "stdout",
     "output_type": "stream",
     "text": [
      "True\n"
     ]
    }
   ],
   "source": [
    "\n",
    "text = 'AMIT Learning AMIT'  #'AMIT Learning AMIT AI'\n",
    "def is_palindrome(string):\n",
    "    sequence_split = string.split()\n",
    "    sequence_split.reverse()\n",
    "    new_string=' '.join(sequence_split)\n",
    "    check=False\n",
    "\n",
    "    if new_string == string:\n",
    "        check=True\n",
    "    return check\n",
    "\n",
    "    \n",
    "palindrome= is_palindrome(text)\n",
    "print(palindrome)"
   ]
  },
  {
   "cell_type": "markdown",
   "metadata": {},
   "source": [
    "### Write a function that generates the fibonacci's sequencer"
   ]
  },
  {
   "cell_type": "code",
   "execution_count": 11,
   "metadata": {},
   "outputs": [
    {
     "data": {
      "text/plain": [
       "34"
      ]
     },
     "execution_count": 11,
     "metadata": {},
     "output_type": "execute_result"
    }
   ],
   "source": [
    "number=9\n",
    "\n",
    "def Fibonacci(n):\n",
    "\n",
    "  \n",
    "    if n < 0:\n",
    "        print(\"Incorrect input\")\n",
    "\n",
    "    \n",
    "    elif n == 0:\n",
    "        return 0\n",
    "\n",
    "    elif n == 1 or n == 2:\n",
    "        return 1\n",
    "\n",
    "    else:\n",
    "        Fibonacci_number = Fibonacci(n-1) + Fibonacci(n-2)\n",
    "        return Fibonacci_number\n",
    "\n",
    "# Driver Program\n",
    "Fibonacci(number)\n",
    "\n"
   ]
  },
  {
   "cell_type": "markdown",
   "metadata": {},
   "source": [
    "### Write a calcuator function"
   ]
  },
  {
   "cell_type": "code",
   "execution_count": 2,
   "metadata": {},
   "outputs": [
    {
     "data": {
      "text/plain": [
       "11"
      ]
     },
     "execution_count": 2,
     "metadata": {},
     "output_type": "execute_result"
    }
   ],
   "source": [
    "\n",
    "num1=int(input('input first number:'))\n",
    "num2=int(input('input second number:'))\n",
    "operation=input('input operation:')\n",
    "\n",
    "def calcuator(a, b, operation): \n",
    "    if operation == '+':\n",
    "        out = a+b\n",
    "        return out\n",
    "    elif operation =='-':\n",
    "        out = a-b\n",
    "        return out\n",
    "    elif operation =='*':\n",
    "        out = a*b\n",
    "        return out\n",
    "    elif operation =='/':\n",
    "        out = a*b\n",
    "        return out\n",
    "    \n",
    "    \n",
    "calcuator(num1 , num2 , operation)\n"
   ]
  }
 ],
 "metadata": {
  "kernelspec": {
   "display_name": "Python 3",
   "language": "python",
   "name": "python3"
  },
  "language_info": {
   "codemirror_mode": {
    "name": "ipython",
    "version": 3
   },
   "file_extension": ".py",
   "mimetype": "text/x-python",
   "name": "python",
   "nbconvert_exporter": "python",
   "pygments_lexer": "ipython3",
   "version": "3.11.2"
  }
 },
 "nbformat": 4,
 "nbformat_minor": 2
}
